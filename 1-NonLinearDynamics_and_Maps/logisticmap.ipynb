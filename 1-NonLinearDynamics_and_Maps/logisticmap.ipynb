{
 "cells": [
  {
   "cell_type": "code",
   "execution_count": 10,
   "metadata": {},
   "outputs": [],
   "source": [
    "import numpy as np\n",
    "import matplotlib.pyplot as plt"
   ]
  },
  {
   "cell_type": "code",
   "execution_count": 34,
   "metadata": {},
   "outputs": [
    {
     "name": "stdout",
     "output_type": "stream",
     "text": [
      "n=50 r=3.2 x0=0.1:\n",
      "[0.513  0.7995 0.513  0.7995 0.513  0.7995 0.513  0.7995 0.513  0.7995]\n",
      "n=50 r=3.2 x0=0.2:\n",
      "[0.7995 0.513  0.7995 0.513  0.7995 0.513  0.7995 0.513  0.7995 0.513 ]\n",
      "n=50 r=3.2 x0=0.3:\n",
      "[0.7995 0.513  0.7995 0.513  0.7995 0.513  0.7995 0.513  0.7995 0.513 ]\n",
      "n=50 r=3.2 x0=0.4:\n",
      "[0.513  0.7995 0.513  0.7995 0.513  0.7995 0.513  0.7995 0.513  0.7995]\n",
      "n=50 r=3.2 x0=0.5:\n",
      "[0.513  0.7995 0.513  0.7995 0.513  0.7995 0.513  0.7995 0.513  0.7995]\n",
      "n=50 r=3.2 x0=0.6:\n",
      "[0.513  0.7995 0.513  0.7995 0.513  0.7995 0.513  0.7995 0.513  0.7995]\n",
      "n=50 r=3.2 x0=0.7:\n",
      "[0.7995 0.513  0.7995 0.513  0.7995 0.513  0.7995 0.513  0.7995 0.513 ]\n",
      "n=50 r=3.2 x0=0.8:\n",
      "[0.7995 0.513  0.7995 0.513  0.7995 0.513  0.7995 0.513  0.7995 0.513 ]\n",
      "n=50 r=3.2 x0=0.9:\n",
      "[0.513  0.7995 0.513  0.7995 0.513  0.7995 0.513  0.7995 0.513  0.7995]\n"
     ]
    }
   ],
   "source": [
    "n = 50 # iterations\n",
    "r = 3.2 # growth factor\n",
    "x0= np.linspace(0.1, 0.9, 9) # initial value\n",
    "#x0=[0.4]\n",
    "xn= np.array([0.0 for x in range(n)], dtype=float) # next value\n",
    "\n",
    "for j in range(len(x0)):\n",
    "    xn[0]=x0[j]\n",
    "    for i in range(n-1):\n",
    "        xn[i+1]=xn[i]*r*(1-xn[i])\n",
    "    print(f\"n={n} r={r} x0={x0[j]:.1f}:\\n{np.round(xn[-10:], 4)}\")"
   ]
  }
 ],
 "metadata": {
  "kernelspec": {
   "display_name": "main",
   "language": "python",
   "name": "python3"
  },
  "language_info": {
   "codemirror_mode": {
    "name": "ipython",
    "version": 3
   },
   "file_extension": ".py",
   "mimetype": "text/x-python",
   "name": "python",
   "nbconvert_exporter": "python",
   "pygments_lexer": "ipython3",
   "version": "3.10.6"
  }
 },
 "nbformat": 4,
 "nbformat_minor": 2
}
